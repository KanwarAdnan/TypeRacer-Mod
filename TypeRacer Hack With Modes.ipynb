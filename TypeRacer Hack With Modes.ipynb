{
 "cells": [
  {
   "cell_type": "code",
   "execution_count": 1,
   "id": "2bb781c6",
   "metadata": {},
   "outputs": [],
   "source": [
    "import pyautogui\n",
    "import time\n",
    "import bs4\n",
    "from selenium import webdriver\n",
    "from selenium.webdriver.chrome.options import Options\n",
    "from selenium.webdriver.chrome.service import Service\n",
    "from selenium.webdriver.common.by import By"
   ]
  },
  {
   "cell_type": "code",
   "execution_count": 2,
   "id": "73210a8f",
   "metadata": {},
   "outputs": [],
   "source": [
    "DRIVER_PATH = \"C:\\Chromedriver\\chromedriver.exe\""
   ]
  },
  {
   "cell_type": "code",
   "execution_count": 8,
   "id": "12d8a360",
   "metadata": {},
   "outputs": [],
   "source": [
    "class TypeRacer:\n",
    "    def __init__(self):\n",
    "        self.url = \"https://play.typeracer.com/\"\n",
    "        self.options = Options()\n",
    "        self.options.headless = False\n",
    "        \n",
    "    def getWords(self):\n",
    "        html = self.driver.page_source\n",
    "        soup = bs4.BeautifulSoup(html,'html.parser')\n",
    "        words = \"\"\n",
    "        for i in soup.findAll(\"span\",{'unselectable' : 'on'}):\n",
    "            words += i.text\n",
    "        return words.strip().split(' ')\n",
    "\n",
    "    def openRace(self):\n",
    "        self.driver = webdriver.Chrome(service=Service(DRIVER_PATH),options=self.options)\n",
    "        self.driver.get(self.url)"
   ]
  },
  {
   "cell_type": "code",
   "execution_count": 4,
   "id": "1f784532",
   "metadata": {},
   "outputs": [],
   "source": [
    "class Modes:\n",
    "    def __init__(self,words):\n",
    "        self.words = words\n",
    "        \n",
    "    def setWords(self,words):\n",
    "        self.words = words\n",
    "    \n",
    "    def getWords(self):\n",
    "        return self.words\n",
    "\n",
    "    def beastMode(self):\n",
    "        for i in self.words:\n",
    "            pyautogui.typewrite(i)\n",
    "            pyautogui.press(\"space\")\n",
    "\n",
    "    def mediumMode(self):\n",
    "        for i in self.words:\n",
    "            pyautogui.typewrite(i[0:len(i)//2])\n",
    "            pyautogui.typewrite(i[len(i)//2:])\n",
    "            pyautogui.press(\"space\")   \n",
    "\n",
    "    def naturalMode(self):\n",
    "        text = list(\" \".join(self.words))\n",
    "        for i in text:\n",
    "            if i == \" \":\n",
    "                pyautogui.press(\"space\")\n",
    "            else:\n",
    "                pyautogui.typewrite(i)"
   ]
  },
  {
   "cell_type": "code",
   "execution_count": 9,
   "id": "137cb691",
   "metadata": {},
   "outputs": [],
   "source": [
    "# Making Object\n",
    "racer = TypeRacer()"
   ]
  },
  {
   "cell_type": "code",
   "execution_count": 10,
   "id": "b091ac8f",
   "metadata": {},
   "outputs": [],
   "source": [
    "# Opening the race track\n",
    "# Do your configs and open any racetrack\n",
    "racer.openRace()"
   ]
  },
  {
   "cell_type": "code",
   "execution_count": 11,
   "id": "5d7e34ae",
   "metadata": {},
   "outputs": [],
   "source": [
    "# Then get it's words\n",
    "words = racer.getWords()"
   ]
  },
  {
   "cell_type": "code",
   "execution_count": 12,
   "id": "11b63cee",
   "metadata": {},
   "outputs": [],
   "source": [
    "# Enables modes\n",
    "mode = Modes(words)"
   ]
  },
  {
   "cell_type": "code",
   "execution_count": null,
   "id": "8c45a5a2",
   "metadata": {},
   "outputs": [],
   "source": [
    "# Run this and switch to the racer window\n",
    "time.sleep(1)\n",
    "mode.naturalMode()"
   ]
  }
 ],
 "metadata": {
  "kernelspec": {
   "display_name": "Python 3 (ipykernel)",
   "language": "python",
   "name": "python3"
  },
  "language_info": {
   "codemirror_mode": {
    "name": "ipython",
    "version": 3
   },
   "file_extension": ".py",
   "mimetype": "text/x-python",
   "name": "python",
   "nbconvert_exporter": "python",
   "pygments_lexer": "ipython3",
   "version": "3.10.4"
  }
 },
 "nbformat": 4,
 "nbformat_minor": 5
}
